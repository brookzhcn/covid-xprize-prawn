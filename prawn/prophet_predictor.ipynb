{
 "cells": [
  {
   "cell_type": "code",
   "execution_count": 1,
   "metadata": {},
   "outputs": [],
   "source": [
    "from prawn_predictor import DataProcessor\n",
    "from fbprophet import Prophet\n",
    "import numpy as np"
   ]
  },
  {
   "cell_type": "code",
   "execution_count": 2,
   "metadata": {},
   "outputs": [
    {
     "data": {
      "text/plain": [
       "<fbprophet.forecaster.Prophet at 0x7fc942790d00>"
      ]
     },
     "execution_count": 2,
     "metadata": {},
     "output_type": "execute_result"
    }
   ],
   "source": [
    "model = Prophet(holidays_prior_scale=1, changepoint_prior_scale=0.5,\n",
    "                seasonality_mode='multiplicative',\n",
    "                growth='logistic',\n",
    "                yearly_seasonality=False,\n",
    "                daily_seasonality=False,\n",
    "                weekly_seasonality=False)\n",
    "model.add_seasonality(name='halfly', period=210, fourier_order=5)\n",
    "model.add_country_holidays('US')\n"
   ]
  },
  {
   "cell_type": "code",
   "execution_count": 3,
   "metadata": {},
   "outputs": [
    {
     "name": "stdout",
     "output_type": "stream",
     "text": [
      "['Brazil' 'United Kingdom' 'United States']\n"
     ]
    },
    {
     "data": {
      "text/html": [
       "<div>\n",
       "<style scoped>\n",
       "    .dataframe tbody tr th:only-of-type {\n",
       "        vertical-align: middle;\n",
       "    }\n",
       "\n",
       "    .dataframe tbody tr th {\n",
       "        vertical-align: top;\n",
       "    }\n",
       "\n",
       "    .dataframe thead th {\n",
       "        text-align: right;\n",
       "    }\n",
       "</style>\n",
       "<table border=\"1\" class=\"dataframe\">\n",
       "  <thead>\n",
       "    <tr style=\"text-align: right;\">\n",
       "      <th></th>\n",
       "      <th>CountryName</th>\n",
       "      <th>RegionName</th>\n",
       "      <th>GeoID</th>\n",
       "      <th>Date</th>\n",
       "      <th>ConfirmedCases</th>\n",
       "      <th>ConfirmedDeaths</th>\n",
       "      <th>Population</th>\n",
       "      <th>C1_School closing</th>\n",
       "      <th>C2_Workplace closing</th>\n",
       "      <th>C3_Cancel public events</th>\n",
       "      <th>...</th>\n",
       "      <th>SmoothNewCases</th>\n",
       "      <th>SmoothNewDeaths</th>\n",
       "      <th>CaseRatio</th>\n",
       "      <th>DeathRatio</th>\n",
       "      <th>ProportionInfected</th>\n",
       "      <th>PredictionRatio</th>\n",
       "      <th>ds</th>\n",
       "      <th>y</th>\n",
       "      <th>cap</th>\n",
       "      <th>floor</th>\n",
       "    </tr>\n",
       "  </thead>\n",
       "  <tbody>\n",
       "    <tr>\n",
       "      <th>79341</th>\n",
       "      <td>United States</td>\n",
       "      <td>New York</td>\n",
       "      <td>United States / New York</td>\n",
       "      <td>2020-11-21</td>\n",
       "      <td>590823.0</td>\n",
       "      <td>34296.0</td>\n",
       "      <td>19453561.0</td>\n",
       "      <td>2.0</td>\n",
       "      <td>3.0</td>\n",
       "      <td>2.0</td>\n",
       "      <td>...</td>\n",
       "      <td>4896.000000</td>\n",
       "      <td>40.857143</td>\n",
       "      <td>1.017366</td>\n",
       "      <td>1.104247</td>\n",
       "      <td>0.030371</td>\n",
       "      <td>1.049232</td>\n",
       "      <td>2020-11-21</td>\n",
       "      <td>590823.0</td>\n",
       "      <td>1000000</td>\n",
       "      <td>0</td>\n",
       "    </tr>\n",
       "    <tr>\n",
       "      <th>79342</th>\n",
       "      <td>United States</td>\n",
       "      <td>New York</td>\n",
       "      <td>United States / New York</td>\n",
       "      <td>2020-11-22</td>\n",
       "      <td>596214.0</td>\n",
       "      <td>34319.0</td>\n",
       "      <td>19453561.0</td>\n",
       "      <td>2.0</td>\n",
       "      <td>3.0</td>\n",
       "      <td>2.0</td>\n",
       "      <td>...</td>\n",
       "      <td>5144.857143</td>\n",
       "      <td>41.000000</td>\n",
       "      <td>1.050829</td>\n",
       "      <td>1.003497</td>\n",
       "      <td>0.030648</td>\n",
       "      <td>1.084053</td>\n",
       "      <td>2020-11-22</td>\n",
       "      <td>596214.0</td>\n",
       "      <td>1000000</td>\n",
       "      <td>0</td>\n",
       "    </tr>\n",
       "    <tr>\n",
       "      <th>79343</th>\n",
       "      <td>United States</td>\n",
       "      <td>New York</td>\n",
       "      <td>United States / New York</td>\n",
       "      <td>2020-11-23</td>\n",
       "      <td>602120.0</td>\n",
       "      <td>34339.0</td>\n",
       "      <td>19453561.0</td>\n",
       "      <td>2.0</td>\n",
       "      <td>3.0</td>\n",
       "      <td>2.0</td>\n",
       "      <td>...</td>\n",
       "      <td>5490.000000</td>\n",
       "      <td>40.714286</td>\n",
       "      <td>1.067085</td>\n",
       "      <td>0.993031</td>\n",
       "      <td>0.030952</td>\n",
       "      <td>1.101168</td>\n",
       "      <td>2020-11-23</td>\n",
       "      <td>602120.0</td>\n",
       "      <td>1000000</td>\n",
       "      <td>0</td>\n",
       "    </tr>\n",
       "    <tr>\n",
       "      <th>79344</th>\n",
       "      <td>United States</td>\n",
       "      <td>New York</td>\n",
       "      <td>United States / New York</td>\n",
       "      <td>2020-11-24</td>\n",
       "      <td>607001.0</td>\n",
       "      <td>34362.0</td>\n",
       "      <td>19453561.0</td>\n",
       "      <td>2.0</td>\n",
       "      <td>3.0</td>\n",
       "      <td>2.0</td>\n",
       "      <td>...</td>\n",
       "      <td>5460.428571</td>\n",
       "      <td>29.428571</td>\n",
       "      <td>0.994614</td>\n",
       "      <td>0.722807</td>\n",
       "      <td>0.031203</td>\n",
       "      <td>1.026648</td>\n",
       "      <td>2020-11-24</td>\n",
       "      <td>607001.0</td>\n",
       "      <td>1000000</td>\n",
       "      <td>0</td>\n",
       "    </tr>\n",
       "    <tr>\n",
       "      <th>79345</th>\n",
       "      <td>United States</td>\n",
       "      <td>New York</td>\n",
       "      <td>United States / New York</td>\n",
       "      <td>2020-11-25</td>\n",
       "      <td>613266.0</td>\n",
       "      <td>34388.0</td>\n",
       "      <td>19453561.0</td>\n",
       "      <td>2.0</td>\n",
       "      <td>3.0</td>\n",
       "      <td>2.0</td>\n",
       "      <td>...</td>\n",
       "      <td>5599.142857</td>\n",
       "      <td>28.714286</td>\n",
       "      <td>1.025404</td>\n",
       "      <td>0.975728</td>\n",
       "      <td>0.031525</td>\n",
       "      <td>1.058781</td>\n",
       "      <td>2020-11-25</td>\n",
       "      <td>613266.0</td>\n",
       "      <td>1000000</td>\n",
       "      <td>0</td>\n",
       "    </tr>\n",
       "  </tbody>\n",
       "</table>\n",
       "<p>5 rows × 31 columns</p>\n",
       "</div>"
      ],
      "text/plain": [
       "         CountryName RegionName                     GeoID       Date  \\\n",
       "79341  United States   New York  United States / New York 2020-11-21   \n",
       "79342  United States   New York  United States / New York 2020-11-22   \n",
       "79343  United States   New York  United States / New York 2020-11-23   \n",
       "79344  United States   New York  United States / New York 2020-11-24   \n",
       "79345  United States   New York  United States / New York 2020-11-25   \n",
       "\n",
       "       ConfirmedCases  ConfirmedDeaths  Population  C1_School closing  \\\n",
       "79341        590823.0          34296.0  19453561.0                2.0   \n",
       "79342        596214.0          34319.0  19453561.0                2.0   \n",
       "79343        602120.0          34339.0  19453561.0                2.0   \n",
       "79344        607001.0          34362.0  19453561.0                2.0   \n",
       "79345        613266.0          34388.0  19453561.0                2.0   \n",
       "\n",
       "       C2_Workplace closing  C3_Cancel public events  ...  SmoothNewCases  \\\n",
       "79341                   3.0                      2.0  ...     4896.000000   \n",
       "79342                   3.0                      2.0  ...     5144.857143   \n",
       "79343                   3.0                      2.0  ...     5490.000000   \n",
       "79344                   3.0                      2.0  ...     5460.428571   \n",
       "79345                   3.0                      2.0  ...     5599.142857   \n",
       "\n",
       "       SmoothNewDeaths  CaseRatio  DeathRatio  ProportionInfected  \\\n",
       "79341        40.857143   1.017366    1.104247            0.030371   \n",
       "79342        41.000000   1.050829    1.003497            0.030648   \n",
       "79343        40.714286   1.067085    0.993031            0.030952   \n",
       "79344        29.428571   0.994614    0.722807            0.031203   \n",
       "79345        28.714286   1.025404    0.975728            0.031525   \n",
       "\n",
       "       PredictionRatio         ds         y      cap  floor  \n",
       "79341         1.049232 2020-11-21  590823.0  1000000      0  \n",
       "79342         1.084053 2020-11-22  596214.0  1000000      0  \n",
       "79343         1.101168 2020-11-23  602120.0  1000000      0  \n",
       "79344         1.026648 2020-11-24  607001.0  1000000      0  \n",
       "79345         1.058781 2020-11-25  613266.0  1000000      0  \n",
       "\n",
       "[5 rows x 31 columns]"
      ]
     },
     "execution_count": 3,
     "metadata": {},
     "output_type": "execute_result"
    }
   ],
   "source": [
    "data_processor = DataProcessor()\n",
    "df = data_processor.df\n",
    "df = df[df['GeoID'] == 'United States / New York'].copy()\n",
    "df['ds'] = df['Date']\n",
    "df['y'] = df['ConfirmedCases']\n",
    "cap = 1000000\n",
    "df['cap'] = cap\n",
    "df['floor'] = 0\n",
    "df.tail()\n",
    "# df['cap'] = cap"
   ]
  },
  {
   "cell_type": "code",
   "execution_count": 4,
   "metadata": {},
   "outputs": [],
   "source": [
    "NPI_COLUMNS = ['C1_School closing',\n",
    "               'C2_Workplace closing']\n",
    "for column in NPI_COLUMNS:\n",
    "    model.add_regressor(column, prior_scale=0.9, standardize=False, mode='additive')"
   ]
  },
  {
   "cell_type": "code",
   "execution_count": 5,
   "metadata": {},
   "outputs": [
    {
     "data": {
      "text/plain": [
       "(339,)"
      ]
     },
     "execution_count": 5,
     "metadata": {},
     "output_type": "execute_result"
    }
   ],
   "source": [
    "np.concatenate([df['C1_School closing'],np.random.randint(0, 5, size=30)], axis=0).shape"
   ]
  },
  {
   "cell_type": "code",
   "execution_count": 6,
   "metadata": {},
   "outputs": [
    {
     "name": "stdout",
     "output_type": "stream",
     "text": [
      "(339, 3)\n"
     ]
    },
    {
     "data": {
      "text/html": [
       "<div>\n",
       "<style scoped>\n",
       "    .dataframe tbody tr th:only-of-type {\n",
       "        vertical-align: middle;\n",
       "    }\n",
       "\n",
       "    .dataframe tbody tr th {\n",
       "        vertical-align: top;\n",
       "    }\n",
       "\n",
       "    .dataframe thead th {\n",
       "        text-align: right;\n",
       "    }\n",
       "</style>\n",
       "<table border=\"1\" class=\"dataframe\">\n",
       "  <thead>\n",
       "    <tr style=\"text-align: right;\">\n",
       "      <th></th>\n",
       "      <th>ds</th>\n",
       "      <th>cap</th>\n",
       "      <th>floor</th>\n",
       "      <th>C1_School closing</th>\n",
       "      <th>C2_Workplace closing</th>\n",
       "    </tr>\n",
       "  </thead>\n",
       "  <tbody>\n",
       "    <tr>\n",
       "      <th>334</th>\n",
       "      <td>2020-12-21</td>\n",
       "      <td>1000000</td>\n",
       "      <td>0</td>\n",
       "      <td>5.0</td>\n",
       "      <td>5.0</td>\n",
       "    </tr>\n",
       "    <tr>\n",
       "      <th>335</th>\n",
       "      <td>2020-12-22</td>\n",
       "      <td>1000000</td>\n",
       "      <td>0</td>\n",
       "      <td>5.0</td>\n",
       "      <td>5.0</td>\n",
       "    </tr>\n",
       "    <tr>\n",
       "      <th>336</th>\n",
       "      <td>2020-12-23</td>\n",
       "      <td>1000000</td>\n",
       "      <td>0</td>\n",
       "      <td>5.0</td>\n",
       "      <td>5.0</td>\n",
       "    </tr>\n",
       "    <tr>\n",
       "      <th>337</th>\n",
       "      <td>2020-12-24</td>\n",
       "      <td>1000000</td>\n",
       "      <td>0</td>\n",
       "      <td>5.0</td>\n",
       "      <td>5.0</td>\n",
       "    </tr>\n",
       "    <tr>\n",
       "      <th>338</th>\n",
       "      <td>2020-12-25</td>\n",
       "      <td>1000000</td>\n",
       "      <td>0</td>\n",
       "      <td>5.0</td>\n",
       "      <td>5.0</td>\n",
       "    </tr>\n",
       "  </tbody>\n",
       "</table>\n",
       "</div>"
      ],
      "text/plain": [
       "            ds      cap  floor  C1_School closing  C2_Workplace closing\n",
       "334 2020-12-21  1000000      0                5.0                   5.0\n",
       "335 2020-12-22  1000000      0                5.0                   5.0\n",
       "336 2020-12-23  1000000      0                5.0                   5.0\n",
       "337 2020-12-24  1000000      0                5.0                   5.0\n",
       "338 2020-12-25  1000000      0                5.0                   5.0"
      ]
     },
     "execution_count": 6,
     "metadata": {},
     "output_type": "execute_result"
    }
   ],
   "source": [
    "model.fit(df)\n",
    "future = model.make_future_dataframe(periods=30)\n",
    "future['cap'] = cap\n",
    "future['floor'] = 0\n",
    "print(future.shape)\n",
    "for column in NPI_COLUMNS:\n",
    "    #future[column] = np.concatenate([df[column],np.random.randint(0, 5, size=30)], axis=0)\n",
    "    future[column] = np.concatenate([df[column],np.array([5]*30)], axis=0)\n",
    "future.tail()"
   ]
  },
  {
   "cell_type": "code",
   "execution_count": 7,
   "metadata": {},
   "outputs": [
    {
     "data": {
      "text/html": [
       "<div>\n",
       "<style scoped>\n",
       "    .dataframe tbody tr th:only-of-type {\n",
       "        vertical-align: middle;\n",
       "    }\n",
       "\n",
       "    .dataframe tbody tr th {\n",
       "        vertical-align: top;\n",
       "    }\n",
       "\n",
       "    .dataframe thead th {\n",
       "        text-align: right;\n",
       "    }\n",
       "</style>\n",
       "<table border=\"1\" class=\"dataframe\">\n",
       "  <thead>\n",
       "    <tr style=\"text-align: right;\">\n",
       "      <th></th>\n",
       "      <th>ds</th>\n",
       "      <th>yhat</th>\n",
       "      <th>yhat_lower</th>\n",
       "      <th>yhat_upper</th>\n",
       "    </tr>\n",
       "  </thead>\n",
       "  <tbody>\n",
       "    <tr>\n",
       "      <th>0</th>\n",
       "      <td>2020-01-22</td>\n",
       "      <td>118.625766</td>\n",
       "      <td>-1897.083450</td>\n",
       "      <td>2133.097244</td>\n",
       "    </tr>\n",
       "    <tr>\n",
       "      <th>1</th>\n",
       "      <td>2020-01-23</td>\n",
       "      <td>123.996142</td>\n",
       "      <td>-1853.544121</td>\n",
       "      <td>2242.475799</td>\n",
       "    </tr>\n",
       "    <tr>\n",
       "      <th>2</th>\n",
       "      <td>2020-01-24</td>\n",
       "      <td>129.611858</td>\n",
       "      <td>-1749.106130</td>\n",
       "      <td>2035.796181</td>\n",
       "    </tr>\n",
       "    <tr>\n",
       "      <th>3</th>\n",
       "      <td>2020-01-25</td>\n",
       "      <td>135.483671</td>\n",
       "      <td>-1913.817242</td>\n",
       "      <td>2198.074132</td>\n",
       "    </tr>\n",
       "    <tr>\n",
       "      <th>4</th>\n",
       "      <td>2020-01-26</td>\n",
       "      <td>141.622686</td>\n",
       "      <td>-1820.074738</td>\n",
       "      <td>2101.146384</td>\n",
       "    </tr>\n",
       "  </tbody>\n",
       "</table>\n",
       "</div>"
      ],
      "text/plain": [
       "          ds        yhat   yhat_lower   yhat_upper\n",
       "0 2020-01-22  118.625766 -1897.083450  2133.097244\n",
       "1 2020-01-23  123.996142 -1853.544121  2242.475799\n",
       "2 2020-01-24  129.611858 -1749.106130  2035.796181\n",
       "3 2020-01-25  135.483671 -1913.817242  2198.074132\n",
       "4 2020-01-26  141.622686 -1820.074738  2101.146384"
      ]
     },
     "execution_count": 7,
     "metadata": {},
     "output_type": "execute_result"
    }
   ],
   "source": [
    "forecast = model.predict(future)\n",
    "forecast[['ds', 'yhat', 'yhat_lower', 'yhat_upper']].head()"
   ]
  },
  {
   "cell_type": "code",
   "execution_count": 8,
   "metadata": {},
   "outputs": [
    {
     "data": {
      "image/png": "[encoded data removed]",
      "text/plain": [
       "<Figure size 720x432 with 1 Axes>"
      ]
     },
     "metadata": {},
     "output_type": "display_data"
    }
   ],
   "source": [
    "fig1 = model.plot(forecast)"
   ]
  },
  {
   "cell_type": "code",
   "execution_count": 9,
   "metadata": {},
   "outputs": [
    {
     "name": "stderr",
     "output_type": "stream",
     "text": [
      "/Users/brook/venvs/covid-xprize/lib/python3.8/site-packages/fbprophet/plot.py:422: UserWarning: FixedFormatter should only be used together with FixedLocator\n",
      "  ax.set_yticklabels(yticklabels)\n",
      "/Users/brook/venvs/covid-xprize/lib/python3.8/site-packages/fbprophet/plot.py:422: UserWarning: FixedFormatter should only be used together with FixedLocator\n",
      "  ax.set_yticklabels(yticklabels)\n",
      "/Users/brook/venvs/covid-xprize/lib/python3.8/site-packages/fbprophet/plot.py:422: UserWarning: FixedFormatter should only be used together with FixedLocator\n",
      "  ax.set_yticklabels(yticklabels)\n"
     ]
    },
    {
     "data": {
      "image/png": "[encoded data removed]",
      "text/plain": [
       "<Figure size 648x864 with 4 Axes>"
      ]
     },
     "metadata": {},
     "output_type": "display_data"
    }
   ],
   "source": [
    "fig2 = model.plot_components(forecast)"
   ]
  },
  {
   "cell_type": "code",
   "execution_count": null,
   "metadata": {},
   "outputs": [],
   "source": []
  }
 ],
 "metadata": {
  "kernelspec": {
   "display_name": "Python 3",
   "language": "python",
   "name": "python3"
  },
  "language_info": {
   "codemirror_mode": {
    "name": "ipython",
    "version": 3
   },
   "file_extension": ".py",
   "mimetype": "text/x-python",
   "name": "python",
   "nbconvert_exporter": "python",
   "pygments_lexer": "ipython3",
   "version": "3.8.5"
  }
 },
 "nbformat": 4,
 "nbformat_minor": 4
}
