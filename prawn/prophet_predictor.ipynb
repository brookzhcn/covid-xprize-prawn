{
 "cells": [
  {
   "cell_type": "code",
   "execution_count": 7,
   "metadata": {},
   "outputs": [],
   "source": [
    "from prawn_predictor import DataProcessor\n",
    "from fbprophet import Prophet\n",
    "import numpy as np\n",
    "import pandas as pd"
   ]
  },
  {
   "cell_type": "code",
   "execution_count": 8,
   "metadata": {},
   "outputs": [
    {
     "data": {
      "text/plain": [
       "<fbprophet.forecaster.Prophet at 0x7fa4f7c57a30>"
      ]
     },
     "execution_count": 8,
     "metadata": {},
     "output_type": "execute_result"
    }
   ],
   "source": [
    "model = Prophet(holidays_prior_scale=1, changepoint_prior_scale=0.5,\n",
    "                seasonality_mode='multiplicative',\n",
    "                #changepoints=['2020-03-01'],\n",
    "                growth='logistic',\n",
    "                yearly_seasonality=False,\n",
    "                daily_seasonality=False,\n",
    "                weekly_seasonality=False)\n",
    "model.add_seasonality(name='halfly', period=210, fourier_order=4)\n",
    "# model.add_country_holidays('US')"
   ]
  },
  {
   "cell_type": "code",
   "execution_count": 9,
   "metadata": {},
   "outputs": [
    {
     "name": "stdout",
     "output_type": "stream",
     "text": [
      "['Brazil' 'United Kingdom' 'United States']\n"
     ]
    }
   ],
   "source": [
    "data_processor = DataProcessor()\n",
    "df = data_processor.df\n",
    "#df['GeoID'].unique()"
   ]
  },
  {
   "cell_type": "code",
   "execution_count": 11,
   "metadata": {
    "pycharm": {
     "name": "#%%\n"
    }
   },
   "outputs": [
    {
     "data": {
      "text/plain": [
       "79341    5973.0\n",
       "79342    5391.0\n",
       "79343    5906.0\n",
       "79344    4881.0\n",
       "79345    6265.0\n",
       "Name: NewCases, dtype: float64"
      ]
     },
     "execution_count": 11,
     "metadata": {},
     "output_type": "execute_result"
    }
   ],
   "source": [
    "#m1 = df['GeoID'] == 'Aruba'\n",
    "m1 = df['GeoID'] == 'United States / New York'\n",
    "# m2 = df['NewCases']>0\n",
    "# start_date = '2020-9-1'\n",
    "# m3 = df['Date'] > start_date\n",
    "df = df[ m1].copy()\n",
    "df['ds'] = df['Date']\n",
    "# df['y'] = df['ConfirmedCases'] + 1\n",
    "df['y'] = df['NewCases']\n",
    "cap = 20000\n",
    "df['cap'] = cap\n",
    "df['floor'] = 0\n",
    "df['NewCases'].tail()\n",
    "# df[df['NewCases']<10]"
   ]
  },
  {
   "cell_type": "code",
   "execution_count": 5,
   "metadata": {},
   "outputs": [],
   "source": [
    "NPI_COLUMNS = ['C1_School closing',\n",
    "               'C2_Workplace closing',\n",
    "               'C3_Cancel public events',\n",
    "               'C4_Restrictions on gatherings',\n",
    "               'C5_Close public transport',\n",
    "               'C6_Stay at home requirements',\n",
    "               'C7_Restrictions on internal movement',\n",
    "               'C8_International travel controls',\n",
    "               'H1_Public information campaigns',\n",
    "               'H2_Testing policy',\n",
    "               'H3_Contact tracing',\n",
    "               'H6_Facial Coverings'\n",
    "              ]\n",
    "df['C_avg'] = df['C1_School closing'] + df['C2_Workplace closing']+df['C4_Restrictions on gatherings'] \\\n",
    "           +df['C5_Close public transport'] + df['C6_Stay at home requirements']\\\n",
    "           +df['C7_Restrictions on internal movement']\\\n",
    "           +df['C8_International travel controls']\n",
    "df['H_avg'] = df['H1_Public information campaigns'] + df['H2_Testing policy'] + df['H3_Contact tracing'] \\\n",
    "                + df['H6_Facial Coverings']\n",
    "    \n",
    "USE_COLUMNS = NPI_COLUMNS"
   ]
  },
  {
   "cell_type": "code",
   "execution_count": 6,
   "metadata": {},
   "outputs": [
    {
     "data": {
      "text/html": [
       "<div>\n",
       "<style scoped>\n",
       "    .dataframe tbody tr th:only-of-type {\n",
       "        vertical-align: middle;\n",
       "    }\n",
       "\n",
       "    .dataframe tbody tr th {\n",
       "        vertical-align: top;\n",
       "    }\n",
       "\n",
       "    .dataframe thead th {\n",
       "        text-align: right;\n",
       "    }\n",
       "</style>\n",
       "<table border=\"1\" class=\"dataframe\">\n",
       "  <thead>\n",
       "    <tr style=\"text-align: right;\">\n",
       "      <th></th>\n",
       "      <th>CountryName</th>\n",
       "      <th>RegionName</th>\n",
       "      <th>GeoID</th>\n",
       "      <th>Date</th>\n",
       "      <th>ConfirmedCases</th>\n",
       "      <th>ConfirmedDeaths</th>\n",
       "      <th>Population</th>\n",
       "      <th>C1_School closing</th>\n",
       "      <th>C2_Workplace closing</th>\n",
       "      <th>C3_Cancel public events</th>\n",
       "      <th>...</th>\n",
       "      <th>CaseRatio</th>\n",
       "      <th>DeathRatio</th>\n",
       "      <th>ProportionInfected</th>\n",
       "      <th>PredictionRatio</th>\n",
       "      <th>ds</th>\n",
       "      <th>y</th>\n",
       "      <th>cap</th>\n",
       "      <th>floor</th>\n",
       "      <th>C_avg</th>\n",
       "      <th>H_avg</th>\n",
       "    </tr>\n",
       "  </thead>\n",
       "  <tbody>\n",
       "    <tr>\n",
       "      <th>79341</th>\n",
       "      <td>United States</td>\n",
       "      <td>New York</td>\n",
       "      <td>United States / New York</td>\n",
       "      <td>2020-11-21</td>\n",
       "      <td>590823.0</td>\n",
       "      <td>34296.0</td>\n",
       "      <td>19453561.0</td>\n",
       "      <td>2.0</td>\n",
       "      <td>3.0</td>\n",
       "      <td>2.0</td>\n",
       "      <td>...</td>\n",
       "      <td>1.017366</td>\n",
       "      <td>1.104247</td>\n",
       "      <td>0.030371</td>\n",
       "      <td>1.049232</td>\n",
       "      <td>2020-11-21</td>\n",
       "      <td>5973.0</td>\n",
       "      <td>20000</td>\n",
       "      <td>0</td>\n",
       "      <td>16.0</td>\n",
       "      <td>10.0</td>\n",
       "    </tr>\n",
       "    <tr>\n",
       "      <th>79342</th>\n",
       "      <td>United States</td>\n",
       "      <td>New York</td>\n",
       "      <td>United States / New York</td>\n",
       "      <td>2020-11-22</td>\n",
       "      <td>596214.0</td>\n",
       "      <td>34319.0</td>\n",
       "      <td>19453561.0</td>\n",
       "      <td>2.0</td>\n",
       "      <td>3.0</td>\n",
       "      <td>2.0</td>\n",
       "      <td>...</td>\n",
       "      <td>1.050829</td>\n",
       "      <td>1.003497</td>\n",
       "      <td>0.030648</td>\n",
       "      <td>1.084053</td>\n",
       "      <td>2020-11-22</td>\n",
       "      <td>5391.0</td>\n",
       "      <td>20000</td>\n",
       "      <td>0</td>\n",
       "      <td>16.0</td>\n",
       "      <td>10.0</td>\n",
       "    </tr>\n",
       "    <tr>\n",
       "      <th>79343</th>\n",
       "      <td>United States</td>\n",
       "      <td>New York</td>\n",
       "      <td>United States / New York</td>\n",
       "      <td>2020-11-23</td>\n",
       "      <td>602120.0</td>\n",
       "      <td>34339.0</td>\n",
       "      <td>19453561.0</td>\n",
       "      <td>2.0</td>\n",
       "      <td>3.0</td>\n",
       "      <td>2.0</td>\n",
       "      <td>...</td>\n",
       "      <td>1.067085</td>\n",
       "      <td>0.993031</td>\n",
       "      <td>0.030952</td>\n",
       "      <td>1.101168</td>\n",
       "      <td>2020-11-23</td>\n",
       "      <td>5906.0</td>\n",
       "      <td>20000</td>\n",
       "      <td>0</td>\n",
       "      <td>16.0</td>\n",
       "      <td>10.0</td>\n",
       "    </tr>\n",
       "    <tr>\n",
       "      <th>79344</th>\n",
       "      <td>United States</td>\n",
       "      <td>New York</td>\n",
       "      <td>United States / New York</td>\n",
       "      <td>2020-11-24</td>\n",
       "      <td>607001.0</td>\n",
       "      <td>34362.0</td>\n",
       "      <td>19453561.0</td>\n",
       "      <td>2.0</td>\n",
       "      <td>3.0</td>\n",
       "      <td>2.0</td>\n",
       "      <td>...</td>\n",
       "      <td>0.994614</td>\n",
       "      <td>0.722807</td>\n",
       "      <td>0.031203</td>\n",
       "      <td>1.026648</td>\n",
       "      <td>2020-11-24</td>\n",
       "      <td>4881.0</td>\n",
       "      <td>20000</td>\n",
       "      <td>0</td>\n",
       "      <td>16.0</td>\n",
       "      <td>10.0</td>\n",
       "    </tr>\n",
       "    <tr>\n",
       "      <th>79345</th>\n",
       "      <td>United States</td>\n",
       "      <td>New York</td>\n",
       "      <td>United States / New York</td>\n",
       "      <td>2020-11-25</td>\n",
       "      <td>613266.0</td>\n",
       "      <td>34388.0</td>\n",
       "      <td>19453561.0</td>\n",
       "      <td>2.0</td>\n",
       "      <td>3.0</td>\n",
       "      <td>2.0</td>\n",
       "      <td>...</td>\n",
       "      <td>1.025404</td>\n",
       "      <td>0.975728</td>\n",
       "      <td>0.031525</td>\n",
       "      <td>1.058781</td>\n",
       "      <td>2020-11-25</td>\n",
       "      <td>6265.0</td>\n",
       "      <td>20000</td>\n",
       "      <td>0</td>\n",
       "      <td>16.0</td>\n",
       "      <td>10.0</td>\n",
       "    </tr>\n",
       "  </tbody>\n",
       "</table>\n",
       "<p>5 rows × 33 columns</p>\n",
       "</div>"
      ],
      "text/plain": [
       "         CountryName RegionName                     GeoID       Date  \\\n",
       "79341  United States   New York  United States / New York 2020-11-21   \n",
       "79342  United States   New York  United States / New York 2020-11-22   \n",
       "79343  United States   New York  United States / New York 2020-11-23   \n",
       "79344  United States   New York  United States / New York 2020-11-24   \n",
       "79345  United States   New York  United States / New York 2020-11-25   \n",
       "\n",
       "       ConfirmedCases  ConfirmedDeaths  Population  C1_School closing  \\\n",
       "79341        590823.0          34296.0  19453561.0                2.0   \n",
       "79342        596214.0          34319.0  19453561.0                2.0   \n",
       "79343        602120.0          34339.0  19453561.0                2.0   \n",
       "79344        607001.0          34362.0  19453561.0                2.0   \n",
       "79345        613266.0          34388.0  19453561.0                2.0   \n",
       "\n",
       "       C2_Workplace closing  C3_Cancel public events  ...  CaseRatio  \\\n",
       "79341                   3.0                      2.0  ...   1.017366   \n",
       "79342                   3.0                      2.0  ...   1.050829   \n",
       "79343                   3.0                      2.0  ...   1.067085   \n",
       "79344                   3.0                      2.0  ...   0.994614   \n",
       "79345                   3.0                      2.0  ...   1.025404   \n",
       "\n",
       "       DeathRatio  ProportionInfected  PredictionRatio         ds       y  \\\n",
       "79341    1.104247            0.030371         1.049232 2020-11-21  5973.0   \n",
       "79342    1.003497            0.030648         1.084053 2020-11-22  5391.0   \n",
       "79343    0.993031            0.030952         1.101168 2020-11-23  5906.0   \n",
       "79344    0.722807            0.031203         1.026648 2020-11-24  4881.0   \n",
       "79345    0.975728            0.031525         1.058781 2020-11-25  6265.0   \n",
       "\n",
       "         cap  floor  C_avg  H_avg  \n",
       "79341  20000      0   16.0   10.0  \n",
       "79342  20000      0   16.0   10.0  \n",
       "79343  20000      0   16.0   10.0  \n",
       "79344  20000      0   16.0   10.0  \n",
       "79345  20000      0   16.0   10.0  \n",
       "\n",
       "[5 rows x 33 columns]"
      ]
     },
     "execution_count": 6,
     "metadata": {},
     "output_type": "execute_result"
    }
   ],
   "source": [
    "df.tail()"
   ]
  },
  {
   "cell_type": "code",
   "execution_count": 7,
   "metadata": {},
   "outputs": [],
   "source": [
    "for column in USE_COLUMNS:\n",
    "    model.add_regressor(column, prior_scale=0.05, standardize=True, )\n",
    "    # model.add_regressor(column, prior_scale=0.005, standardize=True, mode='additive')"
   ]
  },
  {
   "cell_type": "code",
   "execution_count": 8,
   "metadata": {},
   "outputs": [
    {
     "data": {
      "text/plain": [
       "(339,)"
      ]
     },
     "execution_count": 8,
     "metadata": {},
     "output_type": "execute_result"
    }
   ],
   "source": [
    "np.concatenate([df['C1_School closing'],np.random.randint(0, 5, size=30)], axis=0).shape"
   ]
  },
  {
   "cell_type": "code",
   "execution_count": 9,
   "metadata": {},
   "outputs": [
    {
     "data": {
      "text/plain": [
       "<fbprophet.forecaster.Prophet at 0x7f8b6178cb50>"
      ]
     },
     "execution_count": 9,
     "metadata": {},
     "output_type": "execute_result"
    }
   ],
   "source": [
    "model.fit(df)"
   ]
  },
  {
   "cell_type": "code",
   "execution_count": 10,
   "metadata": {},
   "outputs": [
    {
     "data": {
      "application/vnd.jupyter.widget-view+json": {
       "model_id": "d26abe6cab304ad693d32050432ef449",
       "version_major": 2,
       "version_minor": 0
      },
      "text/plain": [
       "HBox(children=(HTML(value=''), FloatProgress(value=0.0, max=1.0), HTML(value='')))"
      ]
     },
     "metadata": {},
     "output_type": "display_data"
    },
    {
     "name": "stdout",
     "output_type": "stream",
     "text": [
      "\n"
     ]
    },
    {
     "data": {
      "text/html": [
       "<div>\n",
       "<style scoped>\n",
       "    .dataframe tbody tr th:only-of-type {\n",
       "        vertical-align: middle;\n",
       "    }\n",
       "\n",
       "    .dataframe tbody tr th {\n",
       "        vertical-align: top;\n",
       "    }\n",
       "\n",
       "    .dataframe thead th {\n",
       "        text-align: right;\n",
       "    }\n",
       "</style>\n",
       "<table border=\"1\" class=\"dataframe\">\n",
       "  <thead>\n",
       "    <tr style=\"text-align: right;\">\n",
       "      <th></th>\n",
       "      <th>ds</th>\n",
       "      <th>delta_y</th>\n",
       "      <th>NewCases</th>\n",
       "      <th>y</th>\n",
       "      <th>yhat</th>\n",
       "      <th>err_rate</th>\n",
       "    </tr>\n",
       "  </thead>\n",
       "  <tbody>\n",
       "    <tr>\n",
       "      <th>0</th>\n",
       "      <td>2020-11-16</td>\n",
       "      <td>-111.139519</td>\n",
       "      <td>3490.0</td>\n",
       "      <td>3490.0</td>\n",
       "      <td>3378.860481</td>\n",
       "      <td>-3.184513</td>\n",
       "    </tr>\n",
       "    <tr>\n",
       "      <th>1</th>\n",
       "      <td>2020-11-17</td>\n",
       "      <td>-1764.166886</td>\n",
       "      <td>5088.0</td>\n",
       "      <td>5088.0</td>\n",
       "      <td>3323.833114</td>\n",
       "      <td>-34.673091</td>\n",
       "    </tr>\n",
       "    <tr>\n",
       "      <th>2</th>\n",
       "      <td>2020-11-18</td>\n",
       "      <td>-2033.316907</td>\n",
       "      <td>5294.0</td>\n",
       "      <td>5294.0</td>\n",
       "      <td>3260.683093</td>\n",
       "      <td>-38.407951</td>\n",
       "    </tr>\n",
       "    <tr>\n",
       "      <th>3</th>\n",
       "      <td>2020-11-19</td>\n",
       "      <td>-2119.897217</td>\n",
       "      <td>5310.0</td>\n",
       "      <td>5310.0</td>\n",
       "      <td>3190.102783</td>\n",
       "      <td>-39.922735</td>\n",
       "    </tr>\n",
       "    <tr>\n",
       "      <th>4</th>\n",
       "      <td>2020-11-20</td>\n",
       "      <td>-2355.144005</td>\n",
       "      <td>5468.0</td>\n",
       "      <td>5468.0</td>\n",
       "      <td>3112.855995</td>\n",
       "      <td>-43.071397</td>\n",
       "    </tr>\n",
       "    <tr>\n",
       "      <th>5</th>\n",
       "      <td>2020-11-21</td>\n",
       "      <td>-2943.230837</td>\n",
       "      <td>5973.0</td>\n",
       "      <td>5973.0</td>\n",
       "      <td>3029.769163</td>\n",
       "      <td>-49.275587</td>\n",
       "    </tr>\n",
       "    <tr>\n",
       "      <th>6</th>\n",
       "      <td>2020-11-22</td>\n",
       "      <td>-2449.278317</td>\n",
       "      <td>5391.0</td>\n",
       "      <td>5391.0</td>\n",
       "      <td>2941.721683</td>\n",
       "      <td>-45.432727</td>\n",
       "    </tr>\n",
       "    <tr>\n",
       "      <th>7</th>\n",
       "      <td>2020-11-23</td>\n",
       "      <td>-3056.364449</td>\n",
       "      <td>5906.0</td>\n",
       "      <td>5906.0</td>\n",
       "      <td>2849.635551</td>\n",
       "      <td>-51.750160</td>\n",
       "    </tr>\n",
       "    <tr>\n",
       "      <th>8</th>\n",
       "      <td>2020-11-24</td>\n",
       "      <td>-2126.535590</td>\n",
       "      <td>4881.0</td>\n",
       "      <td>4881.0</td>\n",
       "      <td>2754.464410</td>\n",
       "      <td>-43.567621</td>\n",
       "    </tr>\n",
       "    <tr>\n",
       "      <th>9</th>\n",
       "      <td>2020-11-25</td>\n",
       "      <td>-3607.817839</td>\n",
       "      <td>6265.0</td>\n",
       "      <td>6265.0</td>\n",
       "      <td>2657.182161</td>\n",
       "      <td>-57.586877</td>\n",
       "    </tr>\n",
       "  </tbody>\n",
       "</table>\n",
       "</div>"
      ],
      "text/plain": [
       "          ds      delta_y  NewCases       y         yhat   err_rate\n",
       "0 2020-11-16  -111.139519    3490.0  3490.0  3378.860481  -3.184513\n",
       "1 2020-11-17 -1764.166886    5088.0  5088.0  3323.833114 -34.673091\n",
       "2 2020-11-18 -2033.316907    5294.0  5294.0  3260.683093 -38.407951\n",
       "3 2020-11-19 -2119.897217    5310.0  5310.0  3190.102783 -39.922735\n",
       "4 2020-11-20 -2355.144005    5468.0  5468.0  3112.855995 -43.071397\n",
       "5 2020-11-21 -2943.230837    5973.0  5973.0  3029.769163 -49.275587\n",
       "6 2020-11-22 -2449.278317    5391.0  5391.0  2941.721683 -45.432727\n",
       "7 2020-11-23 -3056.364449    5906.0  5906.0  2849.635551 -51.750160\n",
       "8 2020-11-24 -2126.535590    4881.0  4881.0  2754.464410 -43.567621\n",
       "9 2020-11-25 -3607.817839    6265.0  6265.0  2657.182161 -57.586877"
      ]
     },
     "execution_count": 10,
     "metadata": {},
     "output_type": "execute_result"
    }
   ],
   "source": [
    "from fbprophet.diagnostics import cross_validation\n",
    "cutoffs = pd.to_datetime(['2020-11-15'])\n",
    "df_cv = cross_validation(model,cutoffs=cutoffs , horizon = '30 days')\n",
    "df_cv['delta_y'] =df_cv['yhat']-df_cv['y']\n",
    "df_cv['Date'] = df_cv['ds']\n",
    "df_cv = df_cv.merge(df, on=['Date'], how='left', suffixes=('', '_y'))\n",
    "df_cv['err_rate'] = df_cv['delta_y']/df_cv['y'] * 100\n",
    "df_cv[['ds','delta_y','NewCases', 'y', 'yhat', 'err_rate']]\n",
    "#df_cv.columns"
   ]
  },
  {
   "cell_type": "code",
   "execution_count": 11,
   "metadata": {},
   "outputs": [
    {
     "data": {
      "text/html": [
       "<div>\n",
       "<style scoped>\n",
       "    .dataframe tbody tr th:only-of-type {\n",
       "        vertical-align: middle;\n",
       "    }\n",
       "\n",
       "    .dataframe tbody tr th {\n",
       "        vertical-align: top;\n",
       "    }\n",
       "\n",
       "    .dataframe thead th {\n",
       "        text-align: right;\n",
       "    }\n",
       "</style>\n",
       "<table border=\"1\" class=\"dataframe\">\n",
       "  <thead>\n",
       "    <tr style=\"text-align: right;\">\n",
       "      <th></th>\n",
       "      <th>horizon</th>\n",
       "      <th>mse</th>\n",
       "      <th>rmse</th>\n",
       "      <th>mae</th>\n",
       "      <th>mape</th>\n",
       "      <th>mdape</th>\n",
       "      <th>coverage</th>\n",
       "    </tr>\n",
       "  </thead>\n",
       "  <tbody>\n",
       "    <tr>\n",
       "      <th>0</th>\n",
       "      <td>1 days</td>\n",
       "      <td>1.235199e+04</td>\n",
       "      <td>111.139519</td>\n",
       "      <td>111.139519</td>\n",
       "      <td>0.031845</td>\n",
       "      <td>0.031845</td>\n",
       "      <td>1.0</td>\n",
       "    </tr>\n",
       "    <tr>\n",
       "      <th>1</th>\n",
       "      <td>2 days</td>\n",
       "      <td>3.112285e+06</td>\n",
       "      <td>1764.166886</td>\n",
       "      <td>1764.166886</td>\n",
       "      <td>0.346731</td>\n",
       "      <td>0.346731</td>\n",
       "      <td>0.0</td>\n",
       "    </tr>\n",
       "    <tr>\n",
       "      <th>2</th>\n",
       "      <td>3 days</td>\n",
       "      <td>4.134378e+06</td>\n",
       "      <td>2033.316907</td>\n",
       "      <td>2033.316907</td>\n",
       "      <td>0.384080</td>\n",
       "      <td>0.384080</td>\n",
       "      <td>0.0</td>\n",
       "    </tr>\n",
       "    <tr>\n",
       "      <th>3</th>\n",
       "      <td>4 days</td>\n",
       "      <td>4.493964e+06</td>\n",
       "      <td>2119.897217</td>\n",
       "      <td>2119.897217</td>\n",
       "      <td>0.399227</td>\n",
       "      <td>0.399227</td>\n",
       "      <td>0.0</td>\n",
       "    </tr>\n",
       "    <tr>\n",
       "      <th>4</th>\n",
       "      <td>5 days</td>\n",
       "      <td>5.546703e+06</td>\n",
       "      <td>2355.144005</td>\n",
       "      <td>2355.144005</td>\n",
       "      <td>0.430714</td>\n",
       "      <td>0.430714</td>\n",
       "      <td>0.0</td>\n",
       "    </tr>\n",
       "    <tr>\n",
       "      <th>5</th>\n",
       "      <td>6 days</td>\n",
       "      <td>8.662608e+06</td>\n",
       "      <td>2943.230837</td>\n",
       "      <td>2943.230837</td>\n",
       "      <td>0.492756</td>\n",
       "      <td>0.492756</td>\n",
       "      <td>0.0</td>\n",
       "    </tr>\n",
       "    <tr>\n",
       "      <th>6</th>\n",
       "      <td>7 days</td>\n",
       "      <td>5.998964e+06</td>\n",
       "      <td>2449.278317</td>\n",
       "      <td>2449.278317</td>\n",
       "      <td>0.454327</td>\n",
       "      <td>0.454327</td>\n",
       "      <td>0.0</td>\n",
       "    </tr>\n",
       "    <tr>\n",
       "      <th>7</th>\n",
       "      <td>8 days</td>\n",
       "      <td>9.341364e+06</td>\n",
       "      <td>3056.364449</td>\n",
       "      <td>3056.364449</td>\n",
       "      <td>0.517502</td>\n",
       "      <td>0.517502</td>\n",
       "      <td>0.0</td>\n",
       "    </tr>\n",
       "    <tr>\n",
       "      <th>8</th>\n",
       "      <td>9 days</td>\n",
       "      <td>4.522154e+06</td>\n",
       "      <td>2126.535590</td>\n",
       "      <td>2126.535590</td>\n",
       "      <td>0.435676</td>\n",
       "      <td>0.435676</td>\n",
       "      <td>0.0</td>\n",
       "    </tr>\n",
       "    <tr>\n",
       "      <th>9</th>\n",
       "      <td>10 days</td>\n",
       "      <td>1.301635e+07</td>\n",
       "      <td>3607.817839</td>\n",
       "      <td>3607.817839</td>\n",
       "      <td>0.575869</td>\n",
       "      <td>0.575869</td>\n",
       "      <td>0.0</td>\n",
       "    </tr>\n",
       "  </tbody>\n",
       "</table>\n",
       "</div>"
      ],
      "text/plain": [
       "  horizon           mse         rmse          mae      mape     mdape  \\\n",
       "0  1 days  1.235199e+04   111.139519   111.139519  0.031845  0.031845   \n",
       "1  2 days  3.112285e+06  1764.166886  1764.166886  0.346731  0.346731   \n",
       "2  3 days  4.134378e+06  2033.316907  2033.316907  0.384080  0.384080   \n",
       "3  4 days  4.493964e+06  2119.897217  2119.897217  0.399227  0.399227   \n",
       "4  5 days  5.546703e+06  2355.144005  2355.144005  0.430714  0.430714   \n",
       "5  6 days  8.662608e+06  2943.230837  2943.230837  0.492756  0.492756   \n",
       "6  7 days  5.998964e+06  2449.278317  2449.278317  0.454327  0.454327   \n",
       "7  8 days  9.341364e+06  3056.364449  3056.364449  0.517502  0.517502   \n",
       "8  9 days  4.522154e+06  2126.535590  2126.535590  0.435676  0.435676   \n",
       "9 10 days  1.301635e+07  3607.817839  3607.817839  0.575869  0.575869   \n",
       "\n",
       "   coverage  \n",
       "0       1.0  \n",
       "1       0.0  \n",
       "2       0.0  \n",
       "3       0.0  \n",
       "4       0.0  \n",
       "5       0.0  \n",
       "6       0.0  \n",
       "7       0.0  \n",
       "8       0.0  \n",
       "9       0.0  "
      ]
     },
     "execution_count": 11,
     "metadata": {},
     "output_type": "execute_result"
    }
   ],
   "source": [
    "from fbprophet.diagnostics import performance_metrics\n",
    "df_p = performance_metrics(df_cv)\n",
    "df_p"
   ]
  },
  {
   "cell_type": "code",
   "execution_count": 12,
   "metadata": {},
   "outputs": [
    {
     "name": "stdout",
     "output_type": "stream",
     "text": [
      "(339, 3)\n"
     ]
    }
   ],
   "source": [
    "future = model.make_future_dataframe(periods=30)\n",
    "future['cap'] = cap\n",
    "future['floor'] = 0\n",
    "print(future.shape)\n",
    "for column in USE_COLUMNS:\n",
    "    #future[column] = np.concatenate([df[column],np.random.randint(0, 5, size=30)], axis=0)\n",
    "    future[column] = np.concatenate([df[column],np.array([3]*30)], axis=0)\n",
    "# future[future['ds']>'2020-11-15']"
   ]
  },
  {
   "cell_type": "code",
   "execution_count": 13,
   "metadata": {},
   "outputs": [
    {
     "data": {
      "text/html": [
       "<div>\n",
       "<style scoped>\n",
       "    .dataframe tbody tr th:only-of-type {\n",
       "        vertical-align: middle;\n",
       "    }\n",
       "\n",
       "    .dataframe tbody tr th {\n",
       "        vertical-align: top;\n",
       "    }\n",
       "\n",
       "    .dataframe thead th {\n",
       "        text-align: right;\n",
       "    }\n",
       "</style>\n",
       "<table border=\"1\" class=\"dataframe\">\n",
       "  <thead>\n",
       "    <tr style=\"text-align: right;\">\n",
       "      <th></th>\n",
       "      <th>ds</th>\n",
       "      <th>yhat</th>\n",
       "      <th>yhat_lower</th>\n",
       "      <th>yhat_upper</th>\n",
       "    </tr>\n",
       "  </thead>\n",
       "  <tbody>\n",
       "    <tr>\n",
       "      <th>334</th>\n",
       "      <td>2020-12-21</td>\n",
       "      <td>4782.880121</td>\n",
       "      <td>3901.228135</td>\n",
       "      <td>5756.130496</td>\n",
       "    </tr>\n",
       "    <tr>\n",
       "      <th>335</th>\n",
       "      <td>2020-12-22</td>\n",
       "      <td>4870.912448</td>\n",
       "      <td>3923.642615</td>\n",
       "      <td>5852.280826</td>\n",
       "    </tr>\n",
       "    <tr>\n",
       "      <th>336</th>\n",
       "      <td>2020-12-23</td>\n",
       "      <td>4966.778356</td>\n",
       "      <td>4031.649768</td>\n",
       "      <td>5952.639115</td>\n",
       "    </tr>\n",
       "    <tr>\n",
       "      <th>337</th>\n",
       "      <td>2020-12-24</td>\n",
       "      <td>5069.690278</td>\n",
       "      <td>4139.016159</td>\n",
       "      <td>6139.686831</td>\n",
       "    </tr>\n",
       "    <tr>\n",
       "      <th>338</th>\n",
       "      <td>2020-12-25</td>\n",
       "      <td>5178.762852</td>\n",
       "      <td>4223.208452</td>\n",
       "      <td>6265.347146</td>\n",
       "    </tr>\n",
       "  </tbody>\n",
       "</table>\n",
       "</div>"
      ],
      "text/plain": [
       "            ds         yhat   yhat_lower   yhat_upper\n",
       "334 2020-12-21  4782.880121  3901.228135  5756.130496\n",
       "335 2020-12-22  4870.912448  3923.642615  5852.280826\n",
       "336 2020-12-23  4966.778356  4031.649768  5952.639115\n",
       "337 2020-12-24  5069.690278  4139.016159  6139.686831\n",
       "338 2020-12-25  5178.762852  4223.208452  6265.347146"
      ]
     },
     "execution_count": 13,
     "metadata": {},
     "output_type": "execute_result"
    }
   ],
   "source": [
    "forecast = model.predict(future)\n",
    "forecast[['ds', 'yhat', 'yhat_lower', 'yhat_upper']].tail()"
   ]
  },
  {
   "cell_type": "code",
   "execution_count": 14,
   "metadata": {},
   "outputs": [
    {
     "data": {
      "image/png": "[encoded data removed]",
      "text/plain": [
       "<Figure size 720x432 with 1 Axes>"
      ]
     },
     "metadata": {},
     "output_type": "display_data"
    }
   ],
   "source": [
    "from fbprophet.plot import add_changepoints_to_plot\n",
    "fig1 = model.plot(forecast)\n",
    "a = add_changepoints_to_plot(fig1.gca(), model, forecast)"
   ]
  },
  {
   "cell_type": "code",
   "execution_count": 15,
   "metadata": {},
   "outputs": [
    {
     "name": "stderr",
     "output_type": "stream",
     "text": [
      "/Users/brook/venvs/covid-xprize/lib/python3.8/site-packages/fbprophet/plot.py:422: UserWarning: FixedFormatter should only be used together with FixedLocator\n",
      "  ax.set_yticklabels(yticklabels)\n",
      "/Users/brook/venvs/covid-xprize/lib/python3.8/site-packages/fbprophet/plot.py:422: UserWarning: FixedFormatter should only be used together with FixedLocator\n",
      "  ax.set_yticklabels(yticklabels)\n"
     ]
    },
    {
     "data": {
      "image/png": "[encoded data removed]",
      "text/plain": [
       "<Figure size 648x648 with 3 Axes>"
      ]
     },
     "metadata": {},
     "output_type": "display_data"
    }
   ],
   "source": [
    "fig2 = model.plot_components(forecast)"
   ]
  },
  {
   "cell_type": "code",
   "execution_count": null,
   "metadata": {},
   "outputs": [],
   "source": []
  }
 ],
 "metadata": {
  "kernelspec": {
   "display_name": "Python 3",
   "language": "python",
   "name": "python3"
  },
  "language_info": {
   "codemirror_mode": {
    "name": "ipython",
    "version": 3
   },
   "file_extension": ".py",
   "mimetype": "text/x-python",
   "name": "python",
   "nbconvert_exporter": "python",
   "pygments_lexer": "ipython3",
   "version": "3.8.5"
  }
 },
 "nbformat": 4,
 "nbformat_minor": 4
}